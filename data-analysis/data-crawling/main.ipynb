{
  "cells": [
    {
      "cell_type": "code",
      "execution_count": 45,
      "metadata": {
        "colab": {
          "base_uri": "https://localhost:8080/"
        },
        "id": "9zrkqlLb5eZs",
        "outputId": "299d1f0d-dfb9-4e3e-e31f-840865632af5"
      },
      "outputs": [
        {
          "name": "stdout",
          "output_type": "stream",
          "text": [
            "Drive already mounted at /content/drive; to attempt to forcibly remount, call drive.mount(\"/content/drive\", force_remount=True).\n"
          ]
        }
      ],
      "source": [
        "from google.colab import drive\n",
        "drive.mount('/content/drive')"
      ]
    },
    {
      "cell_type": "code",
      "execution_count": null,
      "metadata": {
        "colab": {
          "base_uri": "https://localhost:8080/"
        },
        "id": "wKkrKhPZC7nj",
        "outputId": "6e3c92d8-b8f9-48ea-8dca-f476036945a8"
      },
      "outputs": [],
      "source": [
        "%pip install requests beautifulsoup4 newspaper3k reportlab fpdf"
      ]
    },
    {
      "cell_type": "code",
      "execution_count": 47,
      "metadata": {
        "id": "ZpDmntAZEP2T"
      },
      "outputs": [],
      "source": [
        "import requests\n",
        "from bs4 import BeautifulSoup\n",
        "from newspaper import Article\n",
        "from reportlab.lib.pagesizes import letter\n",
        "from reportlab.platypus import SimpleDocTemplate, Paragraph, Spacer\n",
        "from reportlab.lib.styles import getSampleStyleSheet\n",
        "import os\n",
        "from fpdf import FPDF"
      ]
    },
    {
      "cell_type": "code",
      "execution_count": 48,
      "metadata": {
        "id": "ncCVLNdrhGCK"
      },
      "outputs": [],
      "source": [
        "pdf = FPDF()\n",
        "pdf.set_auto_page_break(auto=True, margin=15)\n",
        "\n",
        "pdf.add_page()\n",
        "pdf.set_font(\"Arial\", size=11)\n",
        "\n",
        "# Thêm font Unicode\n",
        "pdf.add_font('DejaVu', '', '/content/drive/MyDrive/crawling/font/DejaVuSans.ttf', uni=True)\n",
        "pdf.set_font('DejaVu', '', 11)\n",
        "\n",
        "notebook_path = '/content/drive/MyDrive/crawling/medic'"
      ]
    },
    {
      "cell_type": "code",
      "execution_count": 49,
      "metadata": {
        "id": "l8v6uSMFTCUi"
      },
      "outputs": [],
      "source": [
        "url = \"https://tamanhhospital.vn/benh/\""
      ]
    },
    {
      "cell_type": "code",
      "execution_count": 50,
      "metadata": {
        "id": "YahvJV_0mkPD"
      },
      "outputs": [],
      "source": [
        "response = requests.get(url)\n",
        "soup = BeautifulSoup(response.content, \"html.parser\")\n",
        "slug = soup.findAll('a', class_='cl_33 sz_14 lh_12 div_inlineb')\n",
        "links_and_text = [(a['href'], a.text.strip()) for a in slug if 'href' in a.attrs]"
      ]
    },
    {
      "cell_type": "code",
      "execution_count": null,
      "metadata": {
        "colab": {
          "base_uri": "https://localhost:8080/"
        },
        "id": "sYy7Ja6AI69B",
        "outputId": "8213bd1a-dac8-4fbd-e76a-26f4d2d61eed"
      },
      "outputs": [],
      "source": [
        "for link, text in links_and_text:\n",
        "\n",
        "    print(f\"Chủ đề: {text}\")\n",
        "    response = requests.get(link)\n",
        "\n",
        "    soup = BeautifulSoup(response.content, \"html.parser\")\n",
        "    titles = soup.findAll('a', class_='title_post')\n",
        "\n",
        "    posts = [a['href'] for a in titles if 'href' in a.attrs]\n",
        "\n",
        "    for post in posts:\n",
        "      news = requests.get(post)\n",
        "      sup = BeautifulSoup(news.content, \"html.parser\")\n",
        "\n",
        "      title_element = sup.find(\"h1\", class_=\"cl_seoyc sz_20 font_hel text-uppercase mb_15 aaaa\")\n",
        "      if title_element:\n",
        "        title = title_element.text.strip()\n",
        "      else:\n",
        "        title = \"Không tìm thấy tiêu đề\"\n",
        "\n",
        "      body = sup.find(\"div\", id=\"ftwp-postcontent\")\n",
        "      if body:\n",
        "        paragraphs = body.find_all(\"p\", recursive=False)\n",
        "        content = \"\\n\".join([p.text.strip() for p in paragraphs])\n",
        "      else:\n",
        "        content = \"Không tìm thấy nội dung\"\n",
        "\n",
        "      # print(f\"Tiêu đề: {title}\")\n",
        "      # print(f\"Nội dung:\\n{content}\")\n",
        "      # print(\"_\" * 80)\n",
        "\n",
        "      pdf.cell(0, 10, txt=f\"Tiêu đề: {title}\", ln=True)\n",
        "      pdf.multi_cell(0, 10, txt=f\"Nội dung:\\n{content}\\n\")\n",
        "      pdf.cell(0, 10, txt=\"_\" * 80, ln=True)\n",
        "\n",
        "    pdf_file_path = os.path.join(notebook_path, f\"{text}.pdf\")\n",
        "\n",
        "    pdf.output(pdf_file_path)\n",
        "\n",
        "    print(f\"File PDF đã được lưu tại: {pdf_file_path}\")"
      ]
    }
  ],
  "metadata": {
    "colab": {
      "provenance": []
    },
    "kernelspec": {
      "display_name": "Python 3",
      "name": "python3"
    },
    "language_info": {
      "name": "python"
    }
  },
  "nbformat": 4,
  "nbformat_minor": 0
}
