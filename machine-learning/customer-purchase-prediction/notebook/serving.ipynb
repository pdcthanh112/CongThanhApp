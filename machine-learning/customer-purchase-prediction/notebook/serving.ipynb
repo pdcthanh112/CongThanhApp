{
 "cells": [
  {
   "cell_type": "code",
   "execution_count": 1,
   "metadata": {},
   "outputs": [],
   "source": [
    "# # Install MLflow and its dependencies\n",
    "# !pip install mlflow==2.9.0\n",
    "# !pip install lz4==4.3.3\n",
    "# !pip install numpy==1.26.4\n",
    "# !pip install pandas==1.3.0\n",
    "# !pip install scikit-learn==1.6.0\n",
    "# !pip install scipy==1.11.4\n",
    "# !pip install xgboost==2.1.3"
   ]
  },
  {
   "cell_type": "code",
   "execution_count": 2,
   "metadata": {},
   "outputs": [],
   "source": [
    "import pandas as pd\n",
    "from loguru import logger\n",
    "\n",
    "import mlflow\n",
    "from mlflow.tracking import MlflowClient\n",
    "\n",
    "# Configure logging\n",
    "logger.add(\"logs/inference.log\")\n",
    "\n",
    "# Set MLflow tracking URI\n",
    "mlflow.set_tracking_uri(\"http://localhost:5001\")\n",
    "\n",
    "\n",
    "def load_latest_model_and_mappings(model_name: str):\n",
    "    \"\"\"Load the latest model version and its category mappings\"\"\"\n",
    "    client = MlflowClient()\n",
    "\n",
    "    try:\n",
    "        # Get latest model version using aliases instead of stages\n",
    "        logger.info(f\"Attempting to load latest version of model: {model_name}\")\n",
    "        latest_version = client.get_model_version_by_alias(model_name, \"current\")\n",
    "        run_id = latest_version.run_id\n",
    "        logger.info(f\"Found model version: {latest_version.version} with run_id: {run_id}\")\n",
    "\n",
    "        if not run_id:\n",
    "            logger.error(\"No run_id found for the model version\")\n",
    "            return None, None\n",
    "\n",
    "        # Load the model\n",
    "        model = mlflow.pyfunc.load_model(f\"models:/{model_name}@current\")\n",
    "        logger.info(\"Model loaded successfully\")\n",
    "\n",
    "        # Get category mappings from the same run\n",
    "        try:\n",
    "            # List artifacts to debug\n",
    "            logger.info(f\"Listing artifacts for run_id: {run_id}\")\n",
    "            artifacts = client.list_artifacts(run_id)\n",
    "            logger.info(f\"Available artifacts: {[art.path for art in artifacts]}\")\n",
    "            \n",
    "            # Try to load the mappings\n",
    "            category_mappings = mlflow.artifacts.load_dict(\n",
    "                f\"runs:/{run_id}/category_mappings.json\"\n",
    "            )\n",
    "            logger.info(\"Category mappings loaded successfully\")\n",
    "            logger.debug(f\"Mappings content: {category_mappings}\")\n",
    "            \n",
    "            return model, category_mappings\n",
    "\n",
    "        except Exception as e:\n",
    "            logger.error(f\"Error loading category mappings: {e}\")\n",
    "            return None, None\n",
    "\n",
    "    except Exception as e:\n",
    "        logger.error(f\"Error loading model: {e}\")\n",
    "        return None, None"
   ]
  },
  {
   "cell_type": "code",
   "execution_count": null,
   "metadata": {},
   "outputs": [],
   "source": [
    "# Model name\n",
    "model_name = \"purchase_prediction_model\"\n",
    "\n",
    "# Load model and mappings\n",
    "model, category_mappings = load_latest_model_and_mappings(model_name)"
   ]
  },
  {
   "cell_type": "code",
   "execution_count": null,
   "metadata": {},
   "outputs": [],
   "source": [
    "# Prepare inference data\n",
    "data = [\n",
    "    {\n",
    "        \"brand\": \"sumsung\",\n",
    "        \"price\": 130.76,\n",
    "        \"event_weekday\": 2,\n",
    "        \"category_code_level1\": \"electronics\",\n",
    "        \"category_code_level2\": \"smartphone\",\n",
    "        \"activity_count\": 1,\n",
    "    },\n",
    "    {\n",
    "        \"brand\": \"video\",\n",
    "        \"price\": 130.76,\n",
    "        \"event_weekday\": 2,\n",
    "        \"category_code_level1\": \"electronics\",\n",
    "        \"category_code_level2\": \"smartphone\",\n",
    "        \"activity_count\": 1,\n",
    "    },\n",
    "]\n",
    "\n",
    "# Convert to DataFrame\n",
    "df = pd.DataFrame(data)\n",
    "logger.info(f\"Input data shape: {df.shape}\")"
   ]
  },
  {
   "cell_type": "code",
   "execution_count": null,
   "metadata": {},
   "outputs": [],
   "source": [
    "# Encode categorical columns using saved mappings\n",
    "for col in [\"brand\", \"category_code_level1\", \"category_code_level2\"]:\n",
    "    mapping = category_mappings[col]\n",
    "    # Map values using the saved mapping, with -1 for unseen categories\n",
    "    df[col] = df[col].map(mapping).fillna(-1)\n",
    "    logger.info(f\"Encoded column {col}\")"
   ]
  },
  {
   "cell_type": "code",
   "execution_count": null,
   "metadata": {},
   "outputs": [],
   "source": [
    "# Make predictions\n",
    "predictions = model.predict(df)\n",
    "logger.info(f\"Predictions: {predictions}\")"
   ]
  }
 ],
 "metadata": {
  "kernelspec": {
   "display_name": "duc_model_training",
   "language": "python",
   "name": "python3"
  },
  "language_info": {
   "codemirror_mode": {
    "name": "ipython",
    "version": 3
   },
   "file_extension": ".py",
   "mimetype": "text/x-python",
   "name": "python",
   "nbconvert_exporter": "python",
   "pygments_lexer": "ipython3",
   "version": "3.9.20"
  }
 },
 "nbformat": 4,
 "nbformat_minor": 2
}
