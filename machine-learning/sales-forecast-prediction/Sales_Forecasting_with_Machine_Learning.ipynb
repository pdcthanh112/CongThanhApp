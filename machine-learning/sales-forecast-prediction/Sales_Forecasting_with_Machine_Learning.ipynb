{
  "cells": [
    {
      "cell_type": "code",
      "execution_count": 2,
      "metadata": {
        "id": "Cm629fhwODKg"
      },
      "outputs": [],
      "source": [
        "import pandas as pd\n",
        "import matplotlib.pyplot as plt\n",
        "import seaborn as sns\n",
        "from sklearn.model_selection import train_test_split\n",
        "from sklearn.preprocessing import StandardScaler\n",
        "from sklearn.ensemble import RandomForestRegressor\n",
        "from sklearn.metrics import mean_absolute_percentage_error"
      ]
    },
    {
      "cell_type": "code",
      "execution_count": 3,
      "metadata": {
        "id": "bzp2XE6SOHHT"
      },
      "outputs": [],
      "source": [
        "# Load the dataset\n",
        "train_df = pd.read_csv('train.csv')\n",
        "test_df = pd.read_csv('test.csv')"
      ]
    },
    {
      "cell_type": "code",
      "execution_count": 5,
      "metadata": {
        "id": "_7Wef15VOR3G"
      },
      "outputs": [],
      "source": [
        "# Convert 'Date' to datetime format\n",
        "train_df['Date'] = pd.to_datetime(train_df['Date'])\n",
        "test_df['Date'] = pd.to_datetime(test_df['Date'])"
      ]
    },
    {
      "cell_type": "code",
      "execution_count": null,
      "metadata": {
        "colab": {
          "base_uri": "https://localhost:8080/",
          "height": 449
        },
        "id": "3sAw9hW-OWZt",
        "outputId": "85391060-2eab-4a74-813b-04a589e09459"
      },
      "outputs": [],
      "source": [
        "# EDA Plot\n",
        "sample_data = train_df[(train_df['store'] == 0) & (train_df['product'] == 0)]\n",
        "sns.lineplot(x='Date', y='number_sold', data=sample_data)\n",
        "plt.show()"
      ]
    },
    {
      "cell_type": "code",
      "execution_count": 7,
      "metadata": {
        "id": "nqPDx1QCOZtt"
      },
      "outputs": [],
      "source": [
        "# Add lagged variables\n",
        "def add_lagged_variables(df, lag_count=1):\n",
        "    new_df = df.copy()\n",
        "    for i in range(1, lag_count + 1):\n",
        "        new_df[f'lag_{i}'] = new_df['number_sold'].shift(i)\n",
        "    return new_df.dropna()\n",
        "\n",
        "single_store_product_data = train_df[(train_df['store'] == 0) & (train_df['product'] == 0)]\n",
        "lagged_data = add_lagged_variables(single_store_product_data, 3)"
      ]
    },
    {
      "cell_type": "code",
      "execution_count": 8,
      "metadata": {
        "id": "pNqC1jiaOgqd"
      },
      "outputs": [],
      "source": [
        "# Prepare features and target variable\n",
        "features = [f'lag_{i}' for i in range(1, 4)]\n",
        "X = lagged_data[features]\n",
        "y = lagged_data['number_sold']"
      ]
    },
    {
      "cell_type": "code",
      "execution_count": 9,
      "metadata": {
        "id": "TWqI421bOkFw"
      },
      "outputs": [],
      "source": [
        "# Standardize the features\n",
        "scaler = StandardScaler()\n",
        "X_scaled = scaler.fit_transform(X)"
      ]
    },
    {
      "cell_type": "code",
      "execution_count": null,
      "metadata": {
        "colab": {
          "base_uri": "https://localhost:8080/"
        },
        "id": "JviaKPR0OpRw",
        "outputId": "7c246eef-70cb-4f5c-eec6-472fb3dbf657"
      },
      "outputs": [],
      "source": [
        "# Split the data\n",
        "X_train, X_val, y_train, y_val = train_test_split(X_scaled, y, test_size=0.2, random_state=42, shuffle=False)\n",
        "\n",
        "# Train the Random Forest model\n",
        "rf_model = RandomForestRegressor(n_estimators=100, random_state=42)\n",
        "rf_model.fit(X_train, y_train)\n",
        "\n",
        "# Evaluate the model\n",
        "y_pred_val = rf_model.predict(X_val)\n",
        "mape_val = mean_absolute_percentage_error(y_val, y_pred_val)\n",
        "print(f'MAPE on Validation Set: {mape_val}')"
      ]
    },
    {
      "cell_type": "code",
      "execution_count": 11,
      "metadata": {
        "colab": {
          "base_uri": "https://localhost:8080/"
        },
        "id": "xwpyqz8iOqw1",
        "outputId": "0544c5b4-bd96-499a-9c66-b04819f2031c"
      },
      "outputs": [
        {
          "name": "stdout",
          "output_type": "stream",
          "text": [
            "Feature Importances: [0.49107474 0.29835262 0.21057264]\n",
            "MAPE on Test Set: 0.0119676492485089\n"
          ]
        }
      ],
      "source": [
        "# Feature importance\n",
        "feature_importances = rf_model.feature_importances_\n",
        "print(f'Feature Importances: {feature_importances}')\n",
        "\n",
        "# Prepare test data and evaluate\n",
        "# (Note: For the full pipeline, you would preprocess the test data similarly to the training data)\n",
        "y_pred_test = rf_model.predict(X_val)  # Using validation set as a stand-in for demonstration\n",
        "mape_test = mean_absolute_percentage_error(y_val, y_pred_test)\n",
        "print(f'MAPE on Test Set: {mape_test}')"
      ]
    },
    {
      "cell_type": "code",
      "execution_count": null,
      "metadata": {
        "colab": {
          "base_uri": "https://localhost:8080/",
          "height": 1683
        },
        "id": "OFwoTLRePQhf",
        "outputId": "b9490441-340f-4d1d-defb-6cf679155241"
      },
      "outputs": [],
      "source": [
        "# Extract feature importances from the trained Random Forest model\n",
        "feature_importances = rf_model.feature_importances_\n",
        "\n",
        "# Create a DataFrame for better visualization\n",
        "feature_importance_df = pd.DataFrame({\n",
        "    'Feature': features,\n",
        "    'Importance': feature_importances\n",
        "})\n",
        "\n",
        "# Sort by importance\n",
        "feature_importance_df = feature_importance_df.sort_values(by='Importance', ascending=False)\n",
        "\n",
        "# Plot the feature importances\n",
        "plt.figure(figsize=(10, 6))\n",
        "sns.barplot(x='Importance', y='Feature', data=feature_importance_df, orient='h')\n",
        "plt.title('Feature Importances')\n",
        "plt.xlabel('Importance')\n",
        "plt.ylabel('Feature')\n",
        "plt.show()\n",
        "\n",
        "feature_importance_df"
      ]
    }
  ],
  "metadata": {
    "colab": {
      "provenance": []
    },
    "kernelspec": {
      "display_name": "Python 3",
      "name": "python3"
    },
    "language_info": {
      "name": "python"
    }
  },
  "nbformat": 4,
  "nbformat_minor": 0
}
